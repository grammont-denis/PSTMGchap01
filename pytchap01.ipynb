{
 "cells": [
  {
   "cell_type": "markdown",
   "metadata": {},
   "source": [
    "Interaction n°1\n",
    "Voici le programme Python permettant de calculer l’image d’un antécédent par la fonction \n",
    "f(x) = 3x^2 − 2x + 0,5.\n",
    "Utiliser ce programme pour calculer f(1), f(2) et f(−1,5)\n",
    "Puis modifier le pour calculer g(0), g(1) et g(−1,5) avec la fonction g(x) = 2x^3 − 5x + 3"
   ]
  },
  {
   "cell_type": "code",
   "execution_count": null,
   "metadata": {},
   "outputs": [],
   "source": [
    "from math import ∗\n",
    "x=float(input(\"antecedent ?\"))\n",
    "y=3∗x∗∗2−2∗x+0.5\n",
    "print(\"f(\",x,\")=\",y)"
   ]
  },
  {
   "cell_type": "markdown",
   "metadata": {},
   "source": [
    "Interaction n°2\n",
    "Compléter le programme Python permettant de conclure si un point appartient ou pas à la courbe \n",
    "représentative de la fonction f(x)=0,5x^3 − x + 2.\n",
    "Tester les trois points suivant A(0 ; 1) B(−1 ; 2, 5) C(2 ; 4)"
   ]
  },
  {
   "cell_type": "code",
   "execution_count": null,
   "metadata": {},
   "outputs": [],
   "source": [
    "from math import ∗\n",
    "XM=float(input(\"abscisse point ?\"))\n",
    "YM=float(input(\"ordonnee point ?\"))\n",
    "Y=0.5∗XM∗∗3−XM+2\n",
    "if\n",
    "    print (\"\n",
    "else :\n",
    "    print (\""
   ]
  },
  {
   "cell_type": "markdown",
   "metadata": {},
   "source": [
    "Interaction n°3\n",
    "Compléter l’algorithme et le programme Python permettant de préciser toutes les informations \n",
    "nécessaires pour le tableau de variations et le tableau de signes."
   ]
  },
  {
   "cell_type": "code",
   "execution_count": null,
   "metadata": {},
   "outputs": [],
   "source": [
    "from math import ∗\n",
    "a=float(input(\"coeff directeur ? a=\"))\n",
    "b=float(input(\"ordonnee origine ? b=\"))\n",
    "if a >0:\n",
    "    c=−b/ a\n",
    "    print (\"Variation         \")\n",
    "    print(\"Signe              \")\n",
    "    print(\"Changement signe en\",c)\n",
    "if a <0:\n",
    "    c=\n",
    "    print(\"Variation         \")\n",
    "    print(\"Signe             \")\n",
    "    print(\"Changement signe en\",c)\n",
    "if a==0:\n",
    "    print (\" Variation       \")\n",
    "    if b >0:\n",
    "        print(\"Signe         \")\n",
    "    if b <0:\n",
    "        print(\"Signe         \")\n",
    "    if b\n",
    "        print(\"Signe         \")"
   ]
  },
  {
   "cell_type": "markdown",
   "metadata": {},
   "source": [
    "Interaction n°4\n",
    "Les deux programmes suivants (n°4 et n°5) sont deux programmes permettant de calculer l’équation d’une droite représentative d’une fonction affine connaissant deux points de la droite.\n",
    "Vérifier que l’on obtient les mêmes résultats si l’on donne les mêmes points."
   ]
  },
  {
   "cell_type": "code",
   "execution_count": null,
   "metadata": {},
   "outputs": [],
   "source": [
    "from math import ∗\n",
    "X1=float(input(\"abscisse 1?\"))\n",
    "Y1=float(input(\"ordonnee 1?\"))\n",
    "X2=float(input(\"abscisse 2?\"))\n",
    "Y2=float(input(\"ordonnee 2?\"))\n",
    "a=(Y2−Y1)/(X2−X1)\n",
    "b=Y1−a∗X1\n",
    "print(\"L’equation de la droite est\")\n",
    "print(\"y=\",a,\"x+\",b)"
   ]
  },
  {
   "cell_type": "markdown",
   "metadata": {},
   "source": [
    "Interaction n°5\n",
    "Les deux programmes suivants (n°4 et n°5) sont deux programmes permettant de calculer l’équation d’une droite représentative d’une fonction affine connaissant deux points de la droite.\n",
    "Vérifier que l’on obtient les mêmes résultats si l’on donne les mêmes points."
   ]
  },
  {
   "cell_type": "code",
   "execution_count": null,
   "metadata": {},
   "outputs": [],
   "source": [
    "from math import ∗\n",
    "def point():\n",
    "    x=float(input(\"abscisse point ?\"))\n",
    "    y=float(input(\"ordonnee point ?\"))\n",
    "    return(x,y)\n",
    "\n",
    "X1,Y1=point()\n",
    "X2,Y2=point()\n",
    "a=(Y2−Y1)/(X2−X1)\n",
    "b=Y1−a∗X1\n",
    "print(\"L’equation de la droite est\")\n",
    "print(\"y=\",a,\"x+\",b)"
   ]
  },
  {
   "cell_type": "markdown",
   "metadata": {},
   "source": [
    "Interaction n°6\n",
    "Compléter le programme suivant en vous inspirant de l’interaction 5 et 1 pour écrire un programme vérifiant si trois points sont alignés.\n",
    "Remarque : plusieurs raisonnements sont possibles"
   ]
  },
  {
   "cell_type": "code",
   "execution_count": null,
   "metadata": {},
   "outputs": [],
   "source": [
    "from math import ∗\n",
    "def point():\n",
    "    x=float(input(\"abscisse point ?\"))\n",
    "    y=float(input(\"ordonnee point ?\"))\n",
    "    return(x,y)\n",
    "\n",
    "X1,Y1=point()\n",
    "X2,Y2=point()\n",
    "\n",
    "a12=(Y2−Y1)/(X2−X1)\n",
    "b12=Y1-a+X1\n"
   ]
  }
 ],
 "metadata": {
  "kernelspec": {
   "display_name": "Python 3",
   "language": "python",
   "name": "python3"
  },
  "language_info": {
   "codemirror_mode": {
    "name": "ipython",
    "version": 3
   },
   "file_extension": ".py",
   "mimetype": "text/x-python",
   "name": "python",
   "nbconvert_exporter": "python",
   "pygments_lexer": "ipython3",
   "version": "3.7.6"
  }
 },
 "nbformat": 4,
 "nbformat_minor": 4
}
